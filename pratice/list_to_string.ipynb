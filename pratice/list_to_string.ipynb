{
 "cells": [
  {
   "cell_type": "code",
   "execution_count": 3,
   "metadata": {},
   "outputs": [
    {
     "name": "stdout",
     "output_type": "stream",
     "text": [
      "enter the data1 2 3 c 4 \n",
      "THE LIST IS ['1', '2', '3', 'c', '4']\n",
      "THE STRING IS 123c4\n"
     ]
    }
   ],
   "source": [
    "list_data=list(input(\"enter the data\").split())\n",
    "str=\"\"\n",
    "for item in list_data:\n",
    "    str+=item\n",
    "print(\"THE LIST IS\",list_data)\n",
    "print(\"THE STRING IS\",str)"
   ]
  },
  {
   "cell_type": "code",
   "execution_count": 5,
   "metadata": {},
   "outputs": [
    {
     "name": "stdout",
     "output_type": "stream",
     "text": [
      "enter the data1 2 3 4 5\n",
      "THE LIST IS ['1', '2', '3', '4', '5']\n",
      "THE STRING IS 12345\n"
     ]
    }
   ],
   "source": [
    "list_data=list(input(\"enter the data\").split())\n",
    "str=\"\".join(list_data)\n",
    "print(\"THE LIST IS\",list_data)\n",
    "print(\"THE STRING IS\",str)"
   ]
  },
  {
   "cell_type": "code",
   "execution_count": null,
   "metadata": {},
   "outputs": [],
   "source": []
  },
  {
   "cell_type": "code",
   "execution_count": null,
   "metadata": {},
   "outputs": [],
   "source": []
  }
 ],
 "metadata": {
  "kernelspec": {
   "display_name": "Python 3",
   "language": "python",
   "name": "python3"
  },
  "language_info": {
   "codemirror_mode": {
    "name": "ipython",
    "version": 3
   },
   "file_extension": ".py",
   "mimetype": "text/x-python",
   "name": "python",
   "nbconvert_exporter": "python",
   "pygments_lexer": "ipython3",
   "version": "3.7.4"
  }
 },
 "nbformat": 4,
 "nbformat_minor": 2
}
