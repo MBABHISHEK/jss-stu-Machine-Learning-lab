{
 "cells": [
  {
   "cell_type": "code",
   "execution_count": 2,
   "metadata": {},
   "outputs": [
    {
     "name": "stdout",
     "output_type": "stream",
     "text": [
      "ENTER THE ELEMENTS TO THE TUPLES 1 2 3 4 5 6 7 8\n",
      "THE TUPLE LENGTH IS : 8\n"
     ]
    }
   ],
   "source": [
    "tuple_data=tuple(map(int,input(\"ENTER THE ELEMENTS TO THE TUPLES \").split()))\n",
    "tuple_length=0\n",
    "\n",
    "for item in tuple_data:\n",
    "    tuple_length+=1\n",
    "print(\"THE TUPLE LENGTH IS :\",tuple_length)"
   ]
  }
 ],
 "metadata": {
  "kernelspec": {
   "display_name": "Python 3",
   "language": "python",
   "name": "python3"
  },
  "language_info": {
   "codemirror_mode": {
    "name": "ipython",
    "version": 3
   },
   "file_extension": ".py",
   "mimetype": "text/x-python",
   "name": "python",
   "nbconvert_exporter": "python",
   "pygments_lexer": "ipython3",
   "version": "3.7.4"
  }
 },
 "nbformat": 4,
 "nbformat_minor": 2
}
