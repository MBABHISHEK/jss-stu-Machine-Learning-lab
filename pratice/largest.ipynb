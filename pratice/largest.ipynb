{
 "cells": [
  {
   "cell_type": "code",
   "execution_count": 1,
   "metadata": {},
   "outputs": [
    {
     "name": "stdout",
     "output_type": "stream",
     "text": [
      "ENTER THE TUPLE ELEMENTS IN TO THE TUPLE ELEMENTS2 5 6 7 8\n",
      "Largest item in the tuple : 8\n"
     ]
    }
   ],
   "source": [
    "tuple_data=tuple(map(int,input(\"ENTER THE TUPLE ELEMENTS IN TO THE TUPLE ELEMENTS\").split()))\n",
    "big=tuple_data[0]\n",
    "\n",
    "for item in tuple_data:\n",
    "    if item > big:\n",
    "        big=item\n",
    "print(\"Largest item in the tuple :\",big)"
   ]
  },
  {
   "cell_type": "code",
   "execution_count": null,
   "metadata": {},
   "outputs": [],
   "source": []
  }
 ],
 "metadata": {
  "kernelspec": {
   "display_name": "Python 3",
   "language": "python",
   "name": "python3"
  },
  "language_info": {
   "codemirror_mode": {
    "name": "ipython",
    "version": 3
   },
   "file_extension": ".py",
   "mimetype": "text/x-python",
   "name": "python",
   "nbconvert_exporter": "python",
   "pygments_lexer": "ipython3",
   "version": "3.7.4"
  }
 },
 "nbformat": 4,
 "nbformat_minor": 2
}
