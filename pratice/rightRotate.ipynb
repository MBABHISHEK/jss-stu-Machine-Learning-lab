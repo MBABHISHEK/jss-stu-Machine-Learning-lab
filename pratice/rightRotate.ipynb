{
 "cells": [
  {
   "cell_type": "code",
   "execution_count": 2,
   "metadata": {},
   "outputs": [
    {
     "name": "stdout",
     "output_type": "stream",
     "text": [
      "Enter the array elements separated by spaces: 4 5 6 7 8 9\n",
      "Enter the number of positions to right rotate: 2\n",
      "Original array: [4 5 6 7 8 9]\n",
      "right rotated array: [8 9 4 5 6 7]\n"
     ]
    }
   ],
   "source": [
    "import numpy as np\n",
    "\n",
    "# Ask the user to input the array\n",
    "arr = np.array(input(\"Enter the array elements separated by spaces: \").split(),dtype=int)\n",
    "\n",
    "# Ask the user for the number of positions to right rotate\n",
    "k = int(input(\"Enter the number of positions to right rotate: \"))\n",
    "\n",
    "# Perform left rotation using a loop\n",
    "rotated_arr = np.empty_like(arr)\n",
    "for i in range(len(arr)):\n",
    "    rotated_arr[i] = arr[(i - k) % len(arr)]\n",
    "\n",
    "print(\"Original array:\", arr)\n",
    "print(\"right rotated array:\", rotated_arr)"
   ]
  },
  {
   "cell_type": "code",
   "execution_count": null,
   "metadata": {},
   "outputs": [],
   "source": []
  }
 ],
 "metadata": {
  "kernelspec": {
   "display_name": "Python 3",
   "language": "python",
   "name": "python3"
  },
  "language_info": {
   "codemirror_mode": {
    "name": "ipython",
    "version": 3
   },
   "file_extension": ".py",
   "mimetype": "text/x-python",
   "name": "python",
   "nbconvert_exporter": "python",
   "pygments_lexer": "ipython3",
   "version": "3.7.4"
  }
 },
 "nbformat": 4,
 "nbformat_minor": 2
}
