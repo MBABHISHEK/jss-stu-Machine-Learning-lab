{
 "cells": [
  {
   "cell_type": "code",
   "execution_count": 1,
   "metadata": {},
   "outputs": [
    {
     "name": "stdout",
     "output_type": "stream",
     "text": [
      "Enter a string: abhi shjel \n",
      "Word counts:\n",
      "abhi : 1\n",
      "shjel : 1\n"
     ]
    }
   ],
   "source": [
    "# Ask the user to input a string\n",
    "input_string = input(\"Enter a string: \")\n",
    "\n",
    "# Split the string into words\n",
    "words = input_string.split()\n",
    "\n",
    "# Initialize an empty dictionary to store word counts\n",
    "word_counts = {}\n",
    "\n",
    "# Count the occurrences of each word\n",
    "for word in words:\n",
    "    if word in word_counts:\n",
    "        word_counts[word] += 1\n",
    "    else:\n",
    "        word_counts[word] = 1\n",
    "\n",
    "# Print the word counts\n",
    "print(\"Word counts:\")\n",
    "for word, count in word_counts.items():\n",
    "    print(word, \":\", count)"
   ]
  },
  {
   "cell_type": "code",
   "execution_count": 6,
   "metadata": {},
   "outputs": [
    {
     "name": "stdout",
     "output_type": "stream",
     "text": [
      "ENTER THE STRINGa b c d c d \n",
      "Word_Counts:\n",
      "a : 1\n",
      "b : 1\n",
      "c : 2\n",
      "d : 2\n"
     ]
    }
   ],
   "source": [
    "input_string=input(\"ENTER THE STRING\")\n",
    "word=input_string.split()\n",
    "word_counts={}\n",
    "for item in word:\n",
    "    if item in word_counts:\n",
    "        word_counts[item]+=1\n",
    "    else:\n",
    "        word_counts[item]=1\n",
    "print(\"Word_Counts:\")\n",
    "for w,c in word_counts.items():\n",
    "    print(w,\":\",c)"
   ]
  },
  {
   "cell_type": "code",
   "execution_count": null,
   "metadata": {},
   "outputs": [],
   "source": []
  },
  {
   "cell_type": "code",
   "execution_count": null,
   "metadata": {},
   "outputs": [],
   "source": []
  },
  {
   "cell_type": "code",
   "execution_count": null,
   "metadata": {},
   "outputs": [],
   "source": []
  }
 ],
 "metadata": {
  "kernelspec": {
   "display_name": "Python 3",
   "language": "python",
   "name": "python3"
  },
  "language_info": {
   "codemirror_mode": {
    "name": "ipython",
    "version": 3
   },
   "file_extension": ".py",
   "mimetype": "text/x-python",
   "name": "python",
   "nbconvert_exporter": "python",
   "pygments_lexer": "ipython3",
   "version": "3.7.4"
  }
 },
 "nbformat": 4,
 "nbformat_minor": 2
}
