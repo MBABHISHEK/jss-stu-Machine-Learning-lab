{
 "cells": [
  {
   "cell_type": "code",
   "execution_count": 2,
   "metadata": {},
   "outputs": [
    {
     "name": "stdout",
     "output_type": "stream",
     "text": [
      "ENTER THE INPUT ELEMENTS IN TO THE LIST1c2c3c4c\n",
      "['1', '2', '3', '4', '']\n"
     ]
    }
   ],
   "source": [
    "list_data=list(input(\"ENTER THE INPUT ELEMENTS IN TO THE LIST\").split(\"c\"))\n",
    "print(list_data)"
   ]
  },
  {
   "cell_type": "code",
   "execution_count": 8,
   "metadata": {},
   "outputs": [
    {
     "name": "stdout",
     "output_type": "stream",
     "text": [
      "ENTER THE INPUT ELEMENTS IN TO THE LIST1 2 3 4 5\n",
      "['1', '2', '3', '4', '5']\n",
      "('1', '2', '3', '4', '5')\n"
     ]
    }
   ],
   "source": [
    "list_data=list(input(\"ENTER THE INPUT ELEMENTS IN TO THE LIST\").split(\" \"))\n",
    "print(list_data)\n",
    "tuple_data=()\n",
    "for i in range(len(list_data)):\n",
    "    tuple_data+=(list_data[i],)\n",
    "print(tuple_data)"
   ]
  },
  {
   "cell_type": "code",
   "execution_count": 9,
   "metadata": {},
   "outputs": [
    {
     "name": "stdout",
     "output_type": "stream",
     "text": [
      "ENTER THE INPUT ELEMENTS IN TO THE LIST1 2 3 4 5\n",
      "['1', '2', '3', '4', '5']\n",
      "('1', '2', '3', '4', '5')\n"
     ]
    }
   ],
   "source": [
    "list_data=list(input(\"ENTER THE INPUT ELEMENTS IN TO THE LIST\").split(\" \"))\n",
    "print(list_data)\n",
    "tuple_data=tuple(list_data)\n",
    "print(tuple_data)"
   ]
  },
  {
   "cell_type": "code",
   "execution_count": null,
   "metadata": {},
   "outputs": [],
   "source": []
  },
  {
   "cell_type": "code",
   "execution_count": null,
   "metadata": {},
   "outputs": [],
   "source": []
  }
 ],
 "metadata": {
  "kernelspec": {
   "display_name": "Python 3",
   "language": "python",
   "name": "python3"
  },
  "language_info": {
   "codemirror_mode": {
    "name": "ipython",
    "version": 3
   },
   "file_extension": ".py",
   "mimetype": "text/x-python",
   "name": "python",
   "nbconvert_exporter": "python",
   "pygments_lexer": "ipython3",
   "version": "3.7.4"
  }
 },
 "nbformat": 4,
 "nbformat_minor": 2
}
